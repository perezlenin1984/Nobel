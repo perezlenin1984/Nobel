{
 "cells": [
  {
   "cell_type": "markdown",
   "metadata": {},
   "source": [
    "NOMBRE: Lenin Hernando Pérez Padilla\n",
    "\n",
    "PROYECTO: Premios Nobel (Fuente: Programa Ciencia de Datos de DataCamp)\n",
    "\n",
    "FECHA: Noviembre de 2024"
   ]
  },
  {
   "cell_type": "markdown",
   "metadata": {},
   "source": [
    "ENUNCIADO\n",
    "\n",
    "El Premio Nobel ha sido uno de los premios internacionales más prestigiosos desde 1901. Cada año, se otorgan premios en química, literatura, \n",
    "física, fisiología o medicina, economía y paz. Además del honor, el prestigio y el importante premio en metálico, el ganador también recibe una \n",
    "medalla de oro con una imagen de Alfred Nobel (1833 - 1896), quien estableció el premio.\n",
    "\n",
    "La Fundación Nobel ha puesto a disposición un conjunto de datos de todos los ganadores del premio desde el inicio de los premios desde 1901 \n",
    "hasta 2023. El conjunto de datos utilizado en este proyecto proviene de la API del Premio Nobel y está disponible en el archivo nobel.csv en la \n",
    "carpeta de datos.\n",
    "\n",
    "En este proyecto, tendrá la oportunidad de explorar y responder varias preguntas relacionadas con estos datos de ganadores del premio. ¡Y lo \n",
    "alentamos a que luego explore otras preguntas que le interesen!\n",
    "\n",
    "Analice los datos de los ganadores del Premio Nobel e identifique patrones respondiendo las siguientes preguntas:\n"
   ]
  },
  {
   "cell_type": "markdown",
   "metadata": {},
   "source": [
    "1) ¿Cuál es el género y el país de nacimiento más comúnmente otorgado?"
   ]
  },
  {
   "cell_type": "markdown",
   "metadata": {},
   "source": [
    "Primero, se importan las bibliotecas necesarias para realizar los cálculos correspondientes:"
   ]
  },
  {
   "cell_type": "code",
   "execution_count": 1,
   "metadata": {},
   "outputs": [],
   "source": [
    "import numpy as np\n",
    "import matplotlib.pyplot as plt\n",
    "import seaborn as sns\n",
    "import pandas as pd"
   ]
  },
  {
   "cell_type": "markdown",
   "metadata": {},
   "source": [
    "A continuación se importa el archivo csv que contiene los datos:"
   ]
  },
  {
   "cell_type": "code",
   "execution_count": 2,
   "metadata": {},
   "outputs": [
    {
     "data": {
      "text/html": [
       "<div>\n",
       "<style scoped>\n",
       "    .dataframe tbody tr th:only-of-type {\n",
       "        vertical-align: middle;\n",
       "    }\n",
       "\n",
       "    .dataframe tbody tr th {\n",
       "        vertical-align: top;\n",
       "    }\n",
       "\n",
       "    .dataframe thead th {\n",
       "        text-align: right;\n",
       "    }\n",
       "</style>\n",
       "<table border=\"1\" class=\"dataframe\">\n",
       "  <thead>\n",
       "    <tr style=\"text-align: right;\">\n",
       "      <th></th>\n",
       "      <th>year</th>\n",
       "      <th>category</th>\n",
       "      <th>prize</th>\n",
       "      <th>motivation</th>\n",
       "      <th>prize_share</th>\n",
       "      <th>laureate_id</th>\n",
       "      <th>laureate_type</th>\n",
       "      <th>full_name</th>\n",
       "      <th>birth_date</th>\n",
       "      <th>birth_city</th>\n",
       "      <th>birth_country</th>\n",
       "      <th>sex</th>\n",
       "      <th>organization_name</th>\n",
       "      <th>organization_city</th>\n",
       "      <th>organization_country</th>\n",
       "      <th>death_date</th>\n",
       "      <th>death_city</th>\n",
       "      <th>death_country</th>\n",
       "    </tr>\n",
       "  </thead>\n",
       "  <tbody>\n",
       "    <tr>\n",
       "      <th>0</th>\n",
       "      <td>1901</td>\n",
       "      <td>Chemistry</td>\n",
       "      <td>The Nobel Prize in Chemistry 1901</td>\n",
       "      <td>\"in recognition of the extraordinary services ...</td>\n",
       "      <td>1/1</td>\n",
       "      <td>160</td>\n",
       "      <td>Individual</td>\n",
       "      <td>Jacobus Henricus van 't Hoff</td>\n",
       "      <td>1852-08-30</td>\n",
       "      <td>Rotterdam</td>\n",
       "      <td>Netherlands</td>\n",
       "      <td>Male</td>\n",
       "      <td>Berlin University</td>\n",
       "      <td>Berlin</td>\n",
       "      <td>Germany</td>\n",
       "      <td>1911-03-01</td>\n",
       "      <td>Berlin</td>\n",
       "      <td>Germany</td>\n",
       "    </tr>\n",
       "    <tr>\n",
       "      <th>1</th>\n",
       "      <td>1901</td>\n",
       "      <td>Literature</td>\n",
       "      <td>The Nobel Prize in Literature 1901</td>\n",
       "      <td>\"in special recognition of his poetic composit...</td>\n",
       "      <td>1/1</td>\n",
       "      <td>569</td>\n",
       "      <td>Individual</td>\n",
       "      <td>Sully Prudhomme</td>\n",
       "      <td>1839-03-16</td>\n",
       "      <td>Paris</td>\n",
       "      <td>France</td>\n",
       "      <td>Male</td>\n",
       "      <td>NaN</td>\n",
       "      <td>NaN</td>\n",
       "      <td>NaN</td>\n",
       "      <td>1907-09-07</td>\n",
       "      <td>Châtenay</td>\n",
       "      <td>France</td>\n",
       "    </tr>\n",
       "    <tr>\n",
       "      <th>2</th>\n",
       "      <td>1901</td>\n",
       "      <td>Medicine</td>\n",
       "      <td>The Nobel Prize in Physiology or Medicine 1901</td>\n",
       "      <td>\"for his work on serum therapy, especially its...</td>\n",
       "      <td>1/1</td>\n",
       "      <td>293</td>\n",
       "      <td>Individual</td>\n",
       "      <td>Emil Adolf von Behring</td>\n",
       "      <td>1854-03-15</td>\n",
       "      <td>Hansdorf (Lawice)</td>\n",
       "      <td>Prussia (Poland)</td>\n",
       "      <td>Male</td>\n",
       "      <td>Marburg University</td>\n",
       "      <td>Marburg</td>\n",
       "      <td>Germany</td>\n",
       "      <td>1917-03-31</td>\n",
       "      <td>Marburg</td>\n",
       "      <td>Germany</td>\n",
       "    </tr>\n",
       "    <tr>\n",
       "      <th>3</th>\n",
       "      <td>1901</td>\n",
       "      <td>Peace</td>\n",
       "      <td>The Nobel Peace Prize 1901</td>\n",
       "      <td>NaN</td>\n",
       "      <td>1/2</td>\n",
       "      <td>462</td>\n",
       "      <td>Individual</td>\n",
       "      <td>Jean Henry Dunant</td>\n",
       "      <td>1828-05-08</td>\n",
       "      <td>Geneva</td>\n",
       "      <td>Switzerland</td>\n",
       "      <td>Male</td>\n",
       "      <td>NaN</td>\n",
       "      <td>NaN</td>\n",
       "      <td>NaN</td>\n",
       "      <td>1910-10-30</td>\n",
       "      <td>Heiden</td>\n",
       "      <td>Switzerland</td>\n",
       "    </tr>\n",
       "    <tr>\n",
       "      <th>4</th>\n",
       "      <td>1901</td>\n",
       "      <td>Peace</td>\n",
       "      <td>The Nobel Peace Prize 1901</td>\n",
       "      <td>NaN</td>\n",
       "      <td>1/2</td>\n",
       "      <td>463</td>\n",
       "      <td>Individual</td>\n",
       "      <td>Frédéric Passy</td>\n",
       "      <td>1822-05-20</td>\n",
       "      <td>Paris</td>\n",
       "      <td>France</td>\n",
       "      <td>Male</td>\n",
       "      <td>NaN</td>\n",
       "      <td>NaN</td>\n",
       "      <td>NaN</td>\n",
       "      <td>1912-06-12</td>\n",
       "      <td>Paris</td>\n",
       "      <td>France</td>\n",
       "    </tr>\n",
       "  </tbody>\n",
       "</table>\n",
       "</div>"
      ],
      "text/plain": [
       "   year    category                                           prize  \\\n",
       "0  1901   Chemistry               The Nobel Prize in Chemistry 1901   \n",
       "1  1901  Literature              The Nobel Prize in Literature 1901   \n",
       "2  1901    Medicine  The Nobel Prize in Physiology or Medicine 1901   \n",
       "3  1901       Peace                      The Nobel Peace Prize 1901   \n",
       "4  1901       Peace                      The Nobel Peace Prize 1901   \n",
       "\n",
       "                                          motivation prize_share  laureate_id  \\\n",
       "0  \"in recognition of the extraordinary services ...         1/1          160   \n",
       "1  \"in special recognition of his poetic composit...         1/1          569   \n",
       "2  \"for his work on serum therapy, especially its...         1/1          293   \n",
       "3                                                NaN         1/2          462   \n",
       "4                                                NaN         1/2          463   \n",
       "\n",
       "  laureate_type                     full_name  birth_date         birth_city  \\\n",
       "0    Individual  Jacobus Henricus van 't Hoff  1852-08-30          Rotterdam   \n",
       "1    Individual               Sully Prudhomme  1839-03-16              Paris   \n",
       "2    Individual        Emil Adolf von Behring  1854-03-15  Hansdorf (Lawice)   \n",
       "3    Individual             Jean Henry Dunant  1828-05-08             Geneva   \n",
       "4    Individual                Frédéric Passy  1822-05-20              Paris   \n",
       "\n",
       "      birth_country   sex   organization_name organization_city  \\\n",
       "0       Netherlands  Male   Berlin University            Berlin   \n",
       "1            France  Male                 NaN               NaN   \n",
       "2  Prussia (Poland)  Male  Marburg University           Marburg   \n",
       "3       Switzerland  Male                 NaN               NaN   \n",
       "4            France  Male                 NaN               NaN   \n",
       "\n",
       "  organization_country  death_date death_city death_country  \n",
       "0              Germany  1911-03-01     Berlin       Germany  \n",
       "1                  NaN  1907-09-07   Châtenay        France  \n",
       "2              Germany  1917-03-31    Marburg       Germany  \n",
       "3                  NaN  1910-10-30     Heiden   Switzerland  \n",
       "4                  NaN  1912-06-12      Paris        France  "
      ]
     },
     "execution_count": 2,
     "metadata": {},
     "output_type": "execute_result"
    }
   ],
   "source": [
    "df = pd.read_csv('nobel.csv')\n",
    "df.head() #Esta línea muestra las primeras 5 filas del conjunto de datos"
   ]
  },
  {
   "cell_type": "markdown",
   "metadata": {},
   "source": [
    "Posteriormente se muestran el nombre, la cantidad de datos no nulos y el tipo de datos de cada columna:  "
   ]
  },
  {
   "cell_type": "code",
   "execution_count": 3,
   "metadata": {},
   "outputs": [
    {
     "name": "stdout",
     "output_type": "stream",
     "text": [
      "<class 'pandas.core.frame.DataFrame'>\n",
      "RangeIndex: 911 entries, 0 to 910\n",
      "Data columns (total 18 columns):\n",
      " #   Column                Non-Null Count  Dtype \n",
      "---  ------                --------------  ----- \n",
      " 0   year                  911 non-null    int64 \n",
      " 1   category              911 non-null    object\n",
      " 2   prize                 911 non-null    object\n",
      " 3   motivation            823 non-null    object\n",
      " 4   prize_share           911 non-null    object\n",
      " 5   laureate_id           911 non-null    int64 \n",
      " 6   laureate_type         911 non-null    object\n",
      " 7   full_name             911 non-null    object\n",
      " 8   birth_date            883 non-null    object\n",
      " 9   birth_city            883 non-null    object\n",
      " 10  birth_country         885 non-null    object\n",
      " 11  sex                   885 non-null    object\n",
      " 12  organization_name     665 non-null    object\n",
      " 13  organization_city     667 non-null    object\n",
      " 14  organization_country  667 non-null    object\n",
      " 15  death_date            593 non-null    object\n",
      " 16  death_city            576 non-null    object\n",
      " 17  death_country         582 non-null    object\n",
      "dtypes: int64(2), object(16)\n",
      "memory usage: 128.2+ KB\n"
     ]
    }
   ],
   "source": [
    "df.info()"
   ]
  },
  {
   "cell_type": "markdown",
   "metadata": {},
   "source": [
    "Ahora se muestran la cantidad de filas y columnas del conjunto de datos:"
   ]
  },
  {
   "cell_type": "code",
   "execution_count": 4,
   "metadata": {},
   "outputs": [
    {
     "data": {
      "text/plain": [
       "(911, 18)"
      ]
     },
     "execution_count": 4,
     "metadata": {},
     "output_type": "execute_result"
    }
   ],
   "source": [
    "df.shape"
   ]
  },
  {
   "cell_type": "markdown",
   "metadata": {},
   "source": [
    "Hay 911 filas y 18 columnas."
   ]
  },
  {
   "cell_type": "markdown",
   "metadata": {},
   "source": [
    "A continuación, se elige la columna 'sex' del conjunto de datos df, se cuentan los distintos valores y se ordenan de mayor a menor:"
   ]
  },
  {
   "cell_type": "code",
   "execution_count": 5,
   "metadata": {},
   "outputs": [
    {
     "data": {
      "text/plain": [
       "sex\n",
       "Male      836\n",
       "Female     49\n",
       "Name: count, dtype: int64"
      ]
     },
     "execution_count": 5,
     "metadata": {},
     "output_type": "execute_result"
    }
   ],
   "source": [
    "top_genero = df['sex'].value_counts(sort=True)\n",
    "top_genero"
   ]
  },
  {
   "cell_type": "markdown",
   "metadata": {},
   "source": [
    "De acuerdo con la serie top_genero, el género más galardonado es el masculino con 836 registros. "
   ]
  },
  {
   "cell_type": "markdown",
   "metadata": {},
   "source": [
    "Con un procedimiento similar, se va a determinar el país más premiado: se elige la columna 'birth_country' del conjunto de datos df, se cuentan los distintos valores y se ordenan de mayor a menor:"
   ]
  },
  {
   "cell_type": "code",
   "execution_count": 6,
   "metadata": {},
   "outputs": [
    {
     "data": {
      "text/plain": [
       "birth_country\n",
       "United States of America    259\n",
       "United Kingdom               85\n",
       "Germany                      61\n",
       "France                       51\n",
       "Sweden                       29\n",
       "Name: count, dtype: int64"
      ]
     },
     "execution_count": 6,
     "metadata": {},
     "output_type": "execute_result"
    }
   ],
   "source": [
    "top_paises = df['birth_country'].value_counts(sort=True)\n",
    "top_paises.head()"
   ]
  },
  {
   "cell_type": "markdown",
   "metadata": {},
   "source": [
    "Con base en la serie top_paises, el país más premiado es Estados Unidos con 259 registros."
   ]
  },
  {
   "cell_type": "markdown",
   "metadata": {},
   "source": [
    "2) ¿Qué década tuvo la mayor proporción de ganadores del Premio Nobel nacidos en EE. UU. en relación con el total de ganadores en todas las categorías?"
   ]
  },
  {
   "cell_type": "markdown",
   "metadata": {},
   "source": [
    "Se van a crear dos columnas. La primera se llama df['usa_winner'], en la que se verifica la condición de que el país de nacimiento del ganador corresponde a Estadosi Unidos. Si el valor es verdadero, se cuenta como True (1 como valor numérico); en caso contrario el valor se cuenta como False (0 como valor numérico).\n",
    "\n",
    "La segunda columna se llama df['decade'], en la que se divide el año que aparece en el conjunto de datos, luego se le asigna el método np.floor para redondear hacia el entero más cercano, menor o igual al número correspondiente. Después ese valor se multiplica por 10 y finalmente se usa el método astype para que los valores correspondan a números enteros:"
   ]
  },
  {
   "cell_type": "code",
   "execution_count": 7,
   "metadata": {},
   "outputs": [],
   "source": [
    "df['usa_winner'] = df['birth_country'] == 'United States of America'\n",
    "df['decade'] = (np.floor(df['year'] / 10) * 10).astype(int)"
   ]
  },
  {
   "cell_type": "markdown",
   "metadata": {},
   "source": [
    "A continuación se usa el método groupby para agrupar las decadas y las proporciones de los ganadores que pertenecen a Estados Unidos. Como la columna 'usa_winner' está compuesta por unos y ceros, se puede usar el promedio (mean), con el fin de obtener las proporciones (o porcentajes) de ganadores que son de Estados Unidos para cada decada:"
   ]
  },
  {
   "cell_type": "code",
   "execution_count": 8,
   "metadata": {},
   "outputs": [
    {
     "data": {
      "text/html": [
       "<div>\n",
       "<style scoped>\n",
       "    .dataframe tbody tr th:only-of-type {\n",
       "        vertical-align: middle;\n",
       "    }\n",
       "\n",
       "    .dataframe tbody tr th {\n",
       "        vertical-align: top;\n",
       "    }\n",
       "\n",
       "    .dataframe thead th {\n",
       "        text-align: right;\n",
       "    }\n",
       "</style>\n",
       "<table border=\"1\" class=\"dataframe\">\n",
       "  <thead>\n",
       "    <tr style=\"text-align: right;\">\n",
       "      <th></th>\n",
       "      <th>decade</th>\n",
       "      <th>usa_winner</th>\n",
       "    </tr>\n",
       "  </thead>\n",
       "  <tbody>\n",
       "    <tr>\n",
       "      <th>0</th>\n",
       "      <td>1900</td>\n",
       "      <td>0.017544</td>\n",
       "    </tr>\n",
       "    <tr>\n",
       "      <th>1</th>\n",
       "      <td>1910</td>\n",
       "      <td>0.075000</td>\n",
       "    </tr>\n",
       "    <tr>\n",
       "      <th>2</th>\n",
       "      <td>1920</td>\n",
       "      <td>0.074074</td>\n",
       "    </tr>\n",
       "    <tr>\n",
       "      <th>3</th>\n",
       "      <td>1930</td>\n",
       "      <td>0.250000</td>\n",
       "    </tr>\n",
       "    <tr>\n",
       "      <th>4</th>\n",
       "      <td>1940</td>\n",
       "      <td>0.302326</td>\n",
       "    </tr>\n",
       "    <tr>\n",
       "      <th>5</th>\n",
       "      <td>1950</td>\n",
       "      <td>0.291667</td>\n",
       "    </tr>\n",
       "    <tr>\n",
       "      <th>6</th>\n",
       "      <td>1960</td>\n",
       "      <td>0.265823</td>\n",
       "    </tr>\n",
       "    <tr>\n",
       "      <th>7</th>\n",
       "      <td>1970</td>\n",
       "      <td>0.317308</td>\n",
       "    </tr>\n",
       "    <tr>\n",
       "      <th>8</th>\n",
       "      <td>1980</td>\n",
       "      <td>0.319588</td>\n",
       "    </tr>\n",
       "    <tr>\n",
       "      <th>9</th>\n",
       "      <td>1990</td>\n",
       "      <td>0.403846</td>\n",
       "    </tr>\n",
       "    <tr>\n",
       "      <th>10</th>\n",
       "      <td>2000</td>\n",
       "      <td>0.422764</td>\n",
       "    </tr>\n",
       "    <tr>\n",
       "      <th>11</th>\n",
       "      <td>2010</td>\n",
       "      <td>0.292683</td>\n",
       "    </tr>\n",
       "  </tbody>\n",
       "</table>\n",
       "</div>"
      ],
      "text/plain": [
       "    decade  usa_winner\n",
       "0     1900    0.017544\n",
       "1     1910    0.075000\n",
       "2     1920    0.074074\n",
       "3     1930    0.250000\n",
       "4     1940    0.302326\n",
       "5     1950    0.291667\n",
       "6     1960    0.265823\n",
       "7     1970    0.317308\n",
       "8     1980    0.319588\n",
       "9     1990    0.403846\n",
       "10    2000    0.422764\n",
       "11    2010    0.292683"
      ]
     },
     "execution_count": 8,
     "metadata": {},
     "output_type": "execute_result"
    }
   ],
   "source": [
    "ganadores_usa = df.groupby('decade', as_index=False)['usa_winner'].mean()\n",
    "ganadores_usa"
   ]
  },
  {
   "cell_type": "markdown",
   "metadata": {},
   "source": [
    "Posteriormente se crea una variable, mayor_decada_usa, para almacenar de manera descendente los valores de la columna usa_winner, mediante uso del método sort_values (y colocando False en el parámetro ascending). Luego se llama a la variable mayor_decada_usa y se usa el método head(1) para seleccionar la década con el mayor porcentaje de ganadores de Estados Unidos:  "
   ]
  },
  {
   "cell_type": "code",
   "execution_count": 9,
   "metadata": {},
   "outputs": [
    {
     "data": {
      "text/html": [
       "<div>\n",
       "<style scoped>\n",
       "    .dataframe tbody tr th:only-of-type {\n",
       "        vertical-align: middle;\n",
       "    }\n",
       "\n",
       "    .dataframe tbody tr th {\n",
       "        vertical-align: top;\n",
       "    }\n",
       "\n",
       "    .dataframe thead th {\n",
       "        text-align: right;\n",
       "    }\n",
       "</style>\n",
       "<table border=\"1\" class=\"dataframe\">\n",
       "  <thead>\n",
       "    <tr style=\"text-align: right;\">\n",
       "      <th></th>\n",
       "      <th>decade</th>\n",
       "      <th>usa_winner</th>\n",
       "    </tr>\n",
       "  </thead>\n",
       "  <tbody>\n",
       "    <tr>\n",
       "      <th>10</th>\n",
       "      <td>2000</td>\n",
       "      <td>0.422764</td>\n",
       "    </tr>\n",
       "  </tbody>\n",
       "</table>\n",
       "</div>"
      ],
      "text/plain": [
       "    decade  usa_winner\n",
       "10    2000    0.422764"
      ]
     },
     "execution_count": 9,
     "metadata": {},
     "output_type": "execute_result"
    }
   ],
   "source": [
    "mayor_decada_usa = ganadores_usa.sort_values('usa_winner', ascending=False)\n",
    "mayor_decada_usa.head(1)"
   ]
  },
  {
   "cell_type": "markdown",
   "metadata": {},
   "source": [
    "La década corresponde al 2000, con una proporción de 0,422764 (ó 42,2764%). Esto significa que en la década del 2000, el 42,2764% de los ganadores del Premio Nobel nacieron en Estados Unidos."
   ]
  },
  {
   "cell_type": "markdown",
   "metadata": {},
   "source": [
    "Como ejercicio adicional, se muestra un gráfico de línea para ilustrar cómo se han comportado las proporciones de los ganadores de Estados Unidos a través de las decadas: "
   ]
  },
  {
   "cell_type": "code",
   "execution_count": 10,
   "metadata": {},
   "outputs": [
    {
     "data": {
      "image/png": "[encoded data removed]",
      "text/plain": [
       "<Figure size 640x480 with 1 Axes>"
      ]
     },
     "metadata": {},
     "output_type": "display_data"
    }
   ],
   "source": [
    "sns.set_style('whitegrid')\n",
    "sns.lineplot(x='decade', y='usa_winner', data=ganadores_usa).set(xlabel='Década', ylabel='Proporción ganadores de USA')\n",
    "plt.show()"
   ]
  },
  {
   "cell_type": "markdown",
   "metadata": {},
   "source": [
    "3) ¿Qué combinación de década y categoría del Premio Nobel tuvo la mayor proporción de mujeres galardonadas?"
   ]
  },
  {
   "cell_type": "markdown",
   "metadata": {},
   "source": [
    "Se crea una nueva columna, female_winner. La condición a evaluar es que el sexo del ganador es mujer (True ó 1 si es mujer y False ó cero si es hombre). Además, en el group_by se deben agrupar dos variables: primero la década y luego la categoría. Se emplea de nuevo el promedio (mean) para determinar las proporciones (o porcentajes) de las mujeres ganadoras de cada categoría, ya que la columna female_winner está compuesta por unos y ceros:"
   ]
  },
  {
   "cell_type": "code",
   "execution_count": 11,
   "metadata": {},
   "outputs": [
    {
     "data": {
      "text/html": [
       "<div>\n",
       "<style scoped>\n",
       "    .dataframe tbody tr th:only-of-type {\n",
       "        vertical-align: middle;\n",
       "    }\n",
       "\n",
       "    .dataframe tbody tr th {\n",
       "        vertical-align: top;\n",
       "    }\n",
       "\n",
       "    .dataframe thead th {\n",
       "        text-align: right;\n",
       "    }\n",
       "</style>\n",
       "<table border=\"1\" class=\"dataframe\">\n",
       "  <thead>\n",
       "    <tr style=\"text-align: right;\">\n",
       "      <th></th>\n",
       "      <th>decade</th>\n",
       "      <th>category</th>\n",
       "      <th>female_winner</th>\n",
       "    </tr>\n",
       "  </thead>\n",
       "  <tbody>\n",
       "    <tr>\n",
       "      <th>0</th>\n",
       "      <td>1900</td>\n",
       "      <td>Chemistry</td>\n",
       "      <td>0.000000</td>\n",
       "    </tr>\n",
       "    <tr>\n",
       "      <th>1</th>\n",
       "      <td>1900</td>\n",
       "      <td>Literature</td>\n",
       "      <td>0.100000</td>\n",
       "    </tr>\n",
       "    <tr>\n",
       "      <th>2</th>\n",
       "      <td>1900</td>\n",
       "      <td>Medicine</td>\n",
       "      <td>0.000000</td>\n",
       "    </tr>\n",
       "    <tr>\n",
       "      <th>3</th>\n",
       "      <td>1900</td>\n",
       "      <td>Peace</td>\n",
       "      <td>0.071429</td>\n",
       "    </tr>\n",
       "    <tr>\n",
       "      <th>4</th>\n",
       "      <td>1900</td>\n",
       "      <td>Physics</td>\n",
       "      <td>0.076923</td>\n",
       "    </tr>\n",
       "    <tr>\n",
       "      <th>...</th>\n",
       "      <td>...</td>\n",
       "      <td>...</td>\n",
       "      <td>...</td>\n",
       "    </tr>\n",
       "    <tr>\n",
       "      <th>61</th>\n",
       "      <td>2010</td>\n",
       "      <td>Economics</td>\n",
       "      <td>0.000000</td>\n",
       "    </tr>\n",
       "    <tr>\n",
       "      <th>62</th>\n",
       "      <td>2010</td>\n",
       "      <td>Literature</td>\n",
       "      <td>0.285714</td>\n",
       "    </tr>\n",
       "    <tr>\n",
       "      <th>63</th>\n",
       "      <td>2010</td>\n",
       "      <td>Medicine</td>\n",
       "      <td>0.125000</td>\n",
       "    </tr>\n",
       "    <tr>\n",
       "      <th>64</th>\n",
       "      <td>2010</td>\n",
       "      <td>Peace</td>\n",
       "      <td>0.400000</td>\n",
       "    </tr>\n",
       "    <tr>\n",
       "      <th>65</th>\n",
       "      <td>2010</td>\n",
       "      <td>Physics</td>\n",
       "      <td>0.000000</td>\n",
       "    </tr>\n",
       "  </tbody>\n",
       "</table>\n",
       "<p>66 rows × 3 columns</p>\n",
       "</div>"
      ],
      "text/plain": [
       "    decade    category  female_winner\n",
       "0     1900   Chemistry       0.000000\n",
       "1     1900  Literature       0.100000\n",
       "2     1900    Medicine       0.000000\n",
       "3     1900       Peace       0.071429\n",
       "4     1900     Physics       0.076923\n",
       "..     ...         ...            ...\n",
       "61    2010   Economics       0.000000\n",
       "62    2010  Literature       0.285714\n",
       "63    2010    Medicine       0.125000\n",
       "64    2010       Peace       0.400000\n",
       "65    2010     Physics       0.000000\n",
       "\n",
       "[66 rows x 3 columns]"
      ]
     },
     "execution_count": 11,
     "metadata": {},
     "output_type": "execute_result"
    }
   ],
   "source": [
    "df['female_winner'] = df['sex'] == 'Female'\n",
    "mujeres_ganadoras = df.groupby(['decade', 'category'], as_index=False)['female_winner'].mean()\n",
    "mujeres_ganadoras"
   ]
  },
  {
   "cell_type": "markdown",
   "metadata": {},
   "source": [
    "A continuación, se crea una nueva variable, mayor_decada_mujeres, para almacenar en orden descendente la proporción de mujeres que ganaron el Premio Nobel con base en las distintas categorías. Se invoca a la nueva variable con head(1) para mostrar la década con la mayor proporción de mujeres ganadoras y en cuál categoría:"
   ]
  },
  {
   "cell_type": "code",
   "execution_count": 12,
   "metadata": {},
   "outputs": [
    {
     "data": {
      "text/html": [
       "<div>\n",
       "<style scoped>\n",
       "    .dataframe tbody tr th:only-of-type {\n",
       "        vertical-align: middle;\n",
       "    }\n",
       "\n",
       "    .dataframe tbody tr th {\n",
       "        vertical-align: top;\n",
       "    }\n",
       "\n",
       "    .dataframe thead th {\n",
       "        text-align: right;\n",
       "    }\n",
       "</style>\n",
       "<table border=\"1\" class=\"dataframe\">\n",
       "  <thead>\n",
       "    <tr style=\"text-align: right;\">\n",
       "      <th></th>\n",
       "      <th>decade</th>\n",
       "      <th>category</th>\n",
       "      <th>female_winner</th>\n",
       "    </tr>\n",
       "  </thead>\n",
       "  <tbody>\n",
       "    <tr>\n",
       "      <th>64</th>\n",
       "      <td>2010</td>\n",
       "      <td>Peace</td>\n",
       "      <td>0.4</td>\n",
       "    </tr>\n",
       "  </tbody>\n",
       "</table>\n",
       "</div>"
      ],
      "text/plain": [
       "    decade category  female_winner\n",
       "64    2010    Peace            0.4"
      ]
     },
     "execution_count": 12,
     "metadata": {},
     "output_type": "execute_result"
    }
   ],
   "source": [
    "mayor_decada_mujeres = mujeres_ganadoras.sort_values('female_winner', ascending=False)\n",
    "mayor_decada_mujeres.head(1)"
   ]
  },
  {
   "cell_type": "markdown",
   "metadata": {},
   "source": [
    "En este caso, la decada corresponde a 2010, con una proporción de 0,4 (ó 40%) en la categoría de la Paz."
   ]
  },
  {
   "cell_type": "markdown",
   "metadata": {},
   "source": [
    "Como ejercicio adicional, se muestra cómo cambiaron las proporciones de mujeres ganadoras en cada categoría a través de las décadas. Al tratarse de décadas (unidad de tiempo), se utiliza un gráfico de líneas: "
   ]
  },
  {
   "cell_type": "code",
   "execution_count": 13,
   "metadata": {},
   "outputs": [
    {
     "data": {
      "image/png": "[encoded data removed]",
      "text/plain": [
       "<Figure size 640x480 with 1 Axes>"
      ]
     },
     "metadata": {},
     "output_type": "display_data"
    }
   ],
   "source": [
    "sns.set_style('whitegrid')\n",
    "sns.lineplot(x='decade', y='female_winner', hue='category', data=mujeres_ganadoras).set(xlabel='Década', ylabel='Proporción mujeres ganadores del Premio Nobel')\n",
    "plt.show()"
   ]
  },
  {
   "cell_type": "markdown",
   "metadata": {},
   "source": [
    "4) ¿Quién fue la primera mujer en recibir un Premio Nobel y en qué categoría?"
   ]
  },
  {
   "cell_type": "markdown",
   "metadata": {},
   "source": [
    "En una variable llamada mujeres, se almacenan únicamente las filas que cumplan con el criterio de que el sexo sea mujer. A continuación se ordenan las filas en orden ascendente de acuerdo con el año y finalmente se invoca a la variable mujeres con el método head(1) para mostrar la primera fila: "
   ]
  },
  {
   "cell_type": "code",
   "execution_count": 14,
   "metadata": {},
   "outputs": [
    {
     "data": {
      "text/html": [
       "<div>\n",
       "<style scoped>\n",
       "    .dataframe tbody tr th:only-of-type {\n",
       "        vertical-align: middle;\n",
       "    }\n",
       "\n",
       "    .dataframe tbody tr th {\n",
       "        vertical-align: top;\n",
       "    }\n",
       "\n",
       "    .dataframe thead th {\n",
       "        text-align: right;\n",
       "    }\n",
       "</style>\n",
       "<table border=\"1\" class=\"dataframe\">\n",
       "  <thead>\n",
       "    <tr style=\"text-align: right;\">\n",
       "      <th></th>\n",
       "      <th>year</th>\n",
       "      <th>category</th>\n",
       "      <th>prize</th>\n",
       "      <th>motivation</th>\n",
       "      <th>prize_share</th>\n",
       "      <th>laureate_id</th>\n",
       "      <th>laureate_type</th>\n",
       "      <th>full_name</th>\n",
       "      <th>birth_date</th>\n",
       "      <th>birth_city</th>\n",
       "      <th>...</th>\n",
       "      <th>sex</th>\n",
       "      <th>organization_name</th>\n",
       "      <th>organization_city</th>\n",
       "      <th>organization_country</th>\n",
       "      <th>death_date</th>\n",
       "      <th>death_city</th>\n",
       "      <th>death_country</th>\n",
       "      <th>usa_winner</th>\n",
       "      <th>decade</th>\n",
       "      <th>female_winner</th>\n",
       "    </tr>\n",
       "  </thead>\n",
       "  <tbody>\n",
       "    <tr>\n",
       "      <th>19</th>\n",
       "      <td>1903</td>\n",
       "      <td>Physics</td>\n",
       "      <td>The Nobel Prize in Physics 1903</td>\n",
       "      <td>\"in recognition of the extraordinary services ...</td>\n",
       "      <td>1/4</td>\n",
       "      <td>6</td>\n",
       "      <td>Individual</td>\n",
       "      <td>Marie Curie, née Sklodowska</td>\n",
       "      <td>1867-11-07</td>\n",
       "      <td>Warsaw</td>\n",
       "      <td>...</td>\n",
       "      <td>Female</td>\n",
       "      <td>NaN</td>\n",
       "      <td>NaN</td>\n",
       "      <td>NaN</td>\n",
       "      <td>1934-07-04</td>\n",
       "      <td>Sallanches</td>\n",
       "      <td>France</td>\n",
       "      <td>False</td>\n",
       "      <td>1900</td>\n",
       "      <td>True</td>\n",
       "    </tr>\n",
       "  </tbody>\n",
       "</table>\n",
       "<p>1 rows × 21 columns</p>\n",
       "</div>"
      ],
      "text/plain": [
       "    year category                            prize  \\\n",
       "19  1903  Physics  The Nobel Prize in Physics 1903   \n",
       "\n",
       "                                           motivation prize_share  \\\n",
       "19  \"in recognition of the extraordinary services ...         1/4   \n",
       "\n",
       "    laureate_id laureate_type                    full_name  birth_date  \\\n",
       "19            6    Individual  Marie Curie, née Sklodowska  1867-11-07   \n",
       "\n",
       "   birth_city  ...     sex organization_name organization_city  \\\n",
       "19     Warsaw  ...  Female               NaN               NaN   \n",
       "\n",
       "   organization_country  death_date  death_city death_country usa_winner  \\\n",
       "19                  NaN  1934-07-04  Sallanches        France      False   \n",
       "\n",
       "    decade  female_winner  \n",
       "19    1900           True  \n",
       "\n",
       "[1 rows x 21 columns]"
      ]
     },
     "execution_count": 14,
     "metadata": {},
     "output_type": "execute_result"
    }
   ],
   "source": [
    "mujeres = df[df['sex']=='Female']\n",
    "mujeres.sort_values(\"year\")\n",
    "mujeres.head(1)"
   ]
  },
  {
   "cell_type": "markdown",
   "metadata": {},
   "source": [
    "En este caso, la primera mujer que recibió un Premio Nobel fue Marie Curie, en la categoría de Física, en 1903."
   ]
  },
  {
   "cell_type": "markdown",
   "metadata": {},
   "source": [
    "5) ¿Qué individuos u organizaciones han ganado más de un Premio Nobel a lo largo de los años?"
   ]
  },
  {
   "cell_type": "markdown",
   "metadata": {},
   "source": [
    "Para esta pregunta, se crea una variable llamada columnas. En ella se van a almacenar las columnas full_name, year, categorý, sex y laureate_id. A continuación, se crea una nueva variable llamada máximos ganadores, para almacenar los individuos y organizaciones que más veces ganaron un Premio Nobel. Se utiliza emplea el método groupby en la variable columnas, para agrupar las filas con base en el full_name. Se aplica un filtro tipo lambda, en el que únicamente aparezcan los nombres de los individuos y organizaciones que más veces ganaron el Premio Nobel (mínimo 2 veces). Se organizan los registros primero por el laureate_id y luego por el year. Finalmente se invoca a la variable mayores ganadores con el método head(10) para mostrar las primeras 10 filas:"
   ]
  },
  {
   "cell_type": "code",
   "execution_count": 15,
   "metadata": {},
   "outputs": [
    {
     "data": {
      "text/html": [
       "<div>\n",
       "<style scoped>\n",
       "    .dataframe tbody tr th:only-of-type {\n",
       "        vertical-align: middle;\n",
       "    }\n",
       "\n",
       "    .dataframe tbody tr th {\n",
       "        vertical-align: top;\n",
       "    }\n",
       "\n",
       "    .dataframe thead th {\n",
       "        text-align: right;\n",
       "    }\n",
       "</style>\n",
       "<table border=\"1\" class=\"dataframe\">\n",
       "  <thead>\n",
       "    <tr style=\"text-align: right;\">\n",
       "      <th></th>\n",
       "      <th>full_name</th>\n",
       "      <th>year</th>\n",
       "      <th>category</th>\n",
       "      <th>sex</th>\n",
       "      <th>laureate_id</th>\n",
       "    </tr>\n",
       "  </thead>\n",
       "  <tbody>\n",
       "    <tr>\n",
       "      <th>19</th>\n",
       "      <td>Marie Curie, née Sklodowska</td>\n",
       "      <td>1903</td>\n",
       "      <td>Physics</td>\n",
       "      <td>Female</td>\n",
       "      <td>6</td>\n",
       "    </tr>\n",
       "    <tr>\n",
       "      <th>62</th>\n",
       "      <td>Marie Curie, née Sklodowska</td>\n",
       "      <td>1911</td>\n",
       "      <td>Chemistry</td>\n",
       "      <td>Female</td>\n",
       "      <td>6</td>\n",
       "    </tr>\n",
       "    <tr>\n",
       "      <th>298</th>\n",
       "      <td>John Bardeen</td>\n",
       "      <td>1956</td>\n",
       "      <td>Physics</td>\n",
       "      <td>Male</td>\n",
       "      <td>66</td>\n",
       "    </tr>\n",
       "    <tr>\n",
       "      <th>424</th>\n",
       "      <td>John Bardeen</td>\n",
       "      <td>1972</td>\n",
       "      <td>Physics</td>\n",
       "      <td>Male</td>\n",
       "      <td>66</td>\n",
       "    </tr>\n",
       "    <tr>\n",
       "      <th>278</th>\n",
       "      <td>Linus Carl Pauling</td>\n",
       "      <td>1954</td>\n",
       "      <td>Chemistry</td>\n",
       "      <td>Male</td>\n",
       "      <td>217</td>\n",
       "    </tr>\n",
       "    <tr>\n",
       "      <th>340</th>\n",
       "      <td>Linus Carl Pauling</td>\n",
       "      <td>1962</td>\n",
       "      <td>Peace</td>\n",
       "      <td>Male</td>\n",
       "      <td>217</td>\n",
       "    </tr>\n",
       "    <tr>\n",
       "      <th>306</th>\n",
       "      <td>Frederick Sanger</td>\n",
       "      <td>1958</td>\n",
       "      <td>Chemistry</td>\n",
       "      <td>Male</td>\n",
       "      <td>222</td>\n",
       "    </tr>\n",
       "    <tr>\n",
       "      <th>505</th>\n",
       "      <td>Frederick Sanger</td>\n",
       "      <td>1980</td>\n",
       "      <td>Chemistry</td>\n",
       "      <td>Male</td>\n",
       "      <td>222</td>\n",
       "    </tr>\n",
       "    <tr>\n",
       "      <th>89</th>\n",
       "      <td>Comité international de la Croix Rouge (Intern...</td>\n",
       "      <td>1917</td>\n",
       "      <td>Peace</td>\n",
       "      <td>NaN</td>\n",
       "      <td>482</td>\n",
       "    </tr>\n",
       "    <tr>\n",
       "      <th>215</th>\n",
       "      <td>Comité international de la Croix Rouge (Intern...</td>\n",
       "      <td>1944</td>\n",
       "      <td>Peace</td>\n",
       "      <td>NaN</td>\n",
       "      <td>482</td>\n",
       "    </tr>\n",
       "  </tbody>\n",
       "</table>\n",
       "</div>"
      ],
      "text/plain": [
       "                                             full_name  year   category  \\\n",
       "19                         Marie Curie, née Sklodowska  1903    Physics   \n",
       "62                         Marie Curie, née Sklodowska  1911  Chemistry   \n",
       "298                                       John Bardeen  1956    Physics   \n",
       "424                                       John Bardeen  1972    Physics   \n",
       "278                                 Linus Carl Pauling  1954  Chemistry   \n",
       "340                                 Linus Carl Pauling  1962      Peace   \n",
       "306                                   Frederick Sanger  1958  Chemistry   \n",
       "505                                   Frederick Sanger  1980  Chemistry   \n",
       "89   Comité international de la Croix Rouge (Intern...  1917      Peace   \n",
       "215  Comité international de la Croix Rouge (Intern...  1944      Peace   \n",
       "\n",
       "        sex  laureate_id  \n",
       "19   Female            6  \n",
       "62   Female            6  \n",
       "298    Male           66  \n",
       "424    Male           66  \n",
       "278    Male          217  \n",
       "340    Male          217  \n",
       "306    Male          222  \n",
       "505    Male          222  \n",
       "89      NaN          482  \n",
       "215     NaN          482  "
      ]
     },
     "execution_count": 15,
     "metadata": {},
     "output_type": "execute_result"
    }
   ],
   "source": [
    "columnas = df[[\"full_name\",\"year\",\"category\",\"sex\", \"laureate_id\"]]\n",
    "mayores_ganadores = columnas.groupby(\"full_name\").filter(lambda group: len(group) >= 2).sort_values([\"laureate_id\", \"year\"])\n",
    "mayores_ganadores.head(10)"
   ]
  },
  {
   "cell_type": "markdown",
   "metadata": {},
   "source": [
    "Dentro de los mayores ganadores del Premio Nobel se destacan Marie Curie, John Bardeen, Linus Carl Pauling, Frederick Sanger y el Comité de la Cruz Roja Internacional."
   ]
  },
  {
   "cell_type": "markdown",
   "metadata": {},
   "source": [
    "CONSIDERACIONES ADICIONALES\n",
    "\n",
    "El conjunto de datos presenta valores nulos (NaN) y hay varios motivos:\n",
    "\n",
    "1) Hay tres tipos de ganadores: hombre, mujer y organizaciones. Si hay información correspondiente a hombres y mujeres, no hay necesidad de rellenar la información de organizaciones (y viceversa).\n",
    "\n",
    "2) Hay una columna llamada motivation. Solo se registran 823 valores no nulos. Sin embargo, para las preguntas consideradas, no se tiene en cuenta esta columna.\n",
    "\n",
    "3) Hay ganadores que no pertenecen a instituciones (organization_name, organization_city), como por ejemplo literatura y paz.\n",
    "\n",
    "4) Hay ganadores que, a fecha del año 2016, todavía siguen vivos, por lo que las columnas death_city, death_country y death_year están vacías.\n",
    "\n",
    "Para este proyecto, la falta de limpieza de datos no afecta el desarrollo de los cálculos. Sin embargo, es necesario realizar la limpieza de datos: revisar si hay valores nulos y cómo se deben tratar. Así mismo, revisar si hay valores duplicados y los tipos de valores de cada columna."
   ]
  }
 ],
 "metadata": {
  "kernelspec": {
   "display_name": "Python 3",
   "language": "python",
   "name": "python3"
  },
  "language_info": {
   "codemirror_mode": {
    "name": "ipython",
    "version": 3
   },
   "file_extension": ".py",
   "mimetype": "text/x-python",
   "name": "python",
   "nbconvert_exporter": "python",
   "pygments_lexer": "ipython3",
   "version": "3.12.6"
  }
 },
 "nbformat": 4,
 "nbformat_minor": 2
}
